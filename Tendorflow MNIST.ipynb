{
 "cells": [
  {
   "cell_type": "code",
   "execution_count": 1,
   "metadata": {},
   "outputs": [],
   "source": [
    "import numpy as np\n",
    "import tensorflow as tf\n",
    "\n",
    "import tensorflow_datasets as tfds"
   ]
  },
  {
   "cell_type": "code",
   "execution_count": 2,
   "metadata": {},
   "outputs": [],
   "source": [
    "# with_info = True Prodives a tuple containing info about the version\n",
    "# as_supervised = True loads the data in a two tuple structure\n",
    "mnist_dataset, mnist_info = tfds.load(name = 'mnist', with_info = True, as_supervised= True)"
   ]
  },
  {
   "cell_type": "markdown",
   "metadata": {},
   "source": [
    "# Data"
   ]
  },
  {
   "cell_type": "code",
   "execution_count": 3,
   "metadata": {},
   "outputs": [],
   "source": [
    "mnist_train ,mnist_test = mnist_dataset['train'], mnist_dataset['test']\n",
    "\n",
    "num_validation_samples = 0.1 * mnist_info.splits['train'].num_examples #10 % of trianing\n",
    "num_validation_samples = tf.cast(num_validation_samples , tf.int64)\n",
    "\n",
    "num_test_samples = mnist_info.splits['test'].num_examples\n",
    "num_test_samples = tf.cast(num_test_samples , tf.int64)\n",
    "\n",
    "def scale(image,label):\n",
    "    image = tf.cast(image, tf.float32)\n",
    "    image /= 255. # . means the result should be float\n",
    "    return image,label\n",
    "\n",
    "scaled_train_and_validation_data = mnist_train.map(scale)\n",
    "\n",
    "test_data = mnist_test.map(scale)\n",
    "\n",
    "BUFFER_SIZE =10000\n",
    "\n",
    "shuffled_train_and_validation_data = scaled_train_and_validation_data.shuffle(BUFFER_SIZE)\n",
    "\n",
    "validation_data = shuffled_train_and_validation_data.take(num_validation_samples)\n",
    "train_data = shuffled_train_and_validation_data.skip(num_validation_samples)\n",
    "\n",
    "BATCH_SIZE =100\n",
    "\n",
    "train_data = train_data.batch(BATCH_SIZE)\n",
    "validation_data = validation_data.batch(num_validation_samples)\n",
    "test_data = test_data.batch(num_test_samples)\n",
    "\n",
    "# iter = creates an object which can be iterated, next = loads the next element of an iterable object \n",
    "validation_inputs, validation_targets = next(iter(validation_data))"
   ]
  },
  {
   "cell_type": "markdown",
   "metadata": {},
   "source": [
    "# Model"
   ]
  },
  {
   "cell_type": "code",
   "execution_count": 4,
   "metadata": {},
   "outputs": [],
   "source": [
    "input_size = 784 # 28*28 as an image is of 28 * 28 pixel matrix\n",
    "output_size = 10 # one for each number from 0-9\n",
    "hidden_layer_size = 100 # assumption widht of same size\n",
    "\n",
    "model = tf.keras.Sequential([\n",
    "    tf.keras.layers.Flatten(input_shape=(28,28,1)),\n",
    "    # tf.keras.layers.Dense(output size) \n",
    "    # takes the inputs provided to the model and calculates the dot product of the inputs and weights and add the bias.\n",
    "    # This is also where we can apply activation function\n",
    "    tf.keras.layers.Dense(hidden_layer_size, activation ='relu'), # Hidden Layer\n",
    "    tf.keras.layers.Dense(hidden_layer_size, activation ='relu'),  # Hidden Layer\n",
    "    tf.keras.layers.Dense(output_size, activation ='softmax')     # Output Layer\n",
    "    \n",
    "])"
   ]
  },
  {
   "cell_type": "markdown",
   "metadata": {},
   "source": [
    "# Optimizer and Loss Function"
   ]
  },
  {
   "cell_type": "code",
   "execution_count": 5,
   "metadata": {},
   "outputs": [],
   "source": [
    "model.compile(optimizer='adam',loss='sparse_categorical_crossentropy',metrics=['accuracy'])"
   ]
  },
  {
   "cell_type": "markdown",
   "metadata": {},
   "source": [
    "# Training"
   ]
  },
  {
   "cell_type": "code",
   "execution_count": 6,
   "metadata": {
    "tags": []
   },
   "outputs": [
    {
     "output_type": "stream",
     "name": "stdout",
     "text": "Epoch 1/5\n540/540 - 8s - loss: 0.3370 - accuracy: 0.9034 - val_loss: 0.1601 - val_accuracy: 0.9542\nEpoch 2/5\n540/540 - 4s - loss: 0.1363 - accuracy: 0.9602 - val_loss: 0.1121 - val_accuracy: 0.9647\nEpoch 3/5\n540/540 - 5s - loss: 0.0970 - accuracy: 0.9705 - val_loss: 0.0903 - val_accuracy: 0.9722\nEpoch 4/5\n540/540 - 5s - loss: 0.0744 - accuracy: 0.9777 - val_loss: 0.0784 - val_accuracy: 0.9753\nEpoch 5/5\n540/540 - 5s - loss: 0.0613 - accuracy: 0.9807 - val_loss: 0.0834 - val_accuracy: 0.9740\n"
    },
    {
     "output_type": "execute_result",
     "data": {
      "text/plain": "<tensorflow.python.keras.callbacks.History at 0x7fb2b02ad190>"
     },
     "metadata": {},
     "execution_count": 6
    }
   ],
   "source": [
    "NUM_EPOCHS = 5\n",
    "\n",
    "model.fit(train_data, epochs = NUM_EPOCHS, validation_data = (validation_inputs, validation_targets), verbose=2)\n"
   ]
  },
  {
   "cell_type": "markdown",
   "metadata": {},
   "source": [
    "# Test"
   ]
  },
  {
   "cell_type": "code",
   "execution_count": 7,
   "metadata": {
    "tags": []
   },
   "outputs": [
    {
     "output_type": "stream",
     "name": "stdout",
     "text": "1/1 [==============================] - 0s 1ms/step - loss: 0.1087 - accuracy: 0.9668\n"
    }
   ],
   "source": [
    "test_loss, test_accuracy = model.evaluate(test_data)"
   ]
  },
  {
   "cell_type": "code",
   "execution_count": 8,
   "metadata": {
    "tags": []
   },
   "outputs": [
    {
     "output_type": "stream",
     "name": "stdout",
     "text": "Test loss: 0.11. Test accuracy: 96.68%\n"
    }
   ],
   "source": [
    "print('Test loss: {0:.2f}. Test accuracy: {1:.2f}%'.format(test_loss, test_accuracy * 100.))"
   ]
  }
 ],
 "metadata": {
  "kernelspec": {
   "display_name": "Python 3.7.7 64-bit ('py3-TF2.0': conda)",
   "language": "python",
   "name": "python37764bitpy3tf20conda5f897dd53991487b9d4ee664cb8fd05a"
  },
  "language_info": {
   "codemirror_mode": {
    "name": "ipython",
    "version": 3
   },
   "file_extension": ".py",
   "mimetype": "text/x-python",
   "name": "python",
   "nbconvert_exporter": "python",
   "pygments_lexer": "ipython3",
   "version": "3.7.7-final"
  }
 },
 "nbformat": 4,
 "nbformat_minor": 4
}